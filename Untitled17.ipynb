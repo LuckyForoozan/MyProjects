{
  "nbformat": 4,
  "nbformat_minor": 0,
  "metadata": {
    "colab": {
      "provenance": [],
      "authorship_tag": "ABX9TyODBzXZ5eYC7bietQLUMj8e",
      "include_colab_link": true
    },
    "kernelspec": {
      "name": "python3",
      "display_name": "Python 3"
    },
    "language_info": {
      "name": "python"
    }
  },
  "cells": [
    {
      "cell_type": "markdown",
      "metadata": {
        "id": "view-in-github",
        "colab_type": "text"
      },
      "source": [
        "<a href=\"https://colab.research.google.com/github/LuckyForoozan/MyProjects/blob/main/Untitled17.ipynb\" target=\"_parent\"><img src=\"https://colab.research.google.com/assets/colab-badge.svg\" alt=\"Open In Colab\"/></a>"
      ]
    },
    {
      "cell_type": "code",
      "execution_count": 7,
      "metadata": {
        "id": "K89rxaTBhJ52"
      },
      "outputs": [],
      "source": [
        "import pandas as pd\n",
        "\n",
        "# Load the dataset\n",
        "file_path = \"/content/sample_data/INVALSI_data_MAT_2324(Foglio 1).csv\"\n",
        "data = pd.read_csv(file_path)"
      ]
    },
    {
      "cell_type": "code",
      "source": [
        "# Show the first 5 rows\n",
        "print(data.head())"
      ],
      "metadata": {
        "colab": {
          "base_uri": "https://localhost:8080/"
        },
        "id": "Z-V6DH3xozMU",
        "outputId": "f6d923dd-be9a-4bc5-b41a-6be47f96ff5d"
      },
      "execution_count": 8,
      "outputs": [
        {
          "output_type": "stream",
          "name": "stdout",
          "text": [
            "   SCHOOL_ANONYMIZED  CLASS_ANONYMIZED  STUDENT_ANONYMIZED  grade  gender  \\\n",
            "0                  1                 1               14366      5       1   \n",
            "1                  1                 1               14367      5       2   \n",
            "2                  1                 1               14368      5       2   \n",
            "3                  1                 1               14369      5       2   \n",
            "4                  1                 1               14370      5       2   \n",
            "\n",
            "   month  year  place  enrollment_status  origin  ...  proc_2_percentile  \\\n",
            "0     10     2      1                  3       3  ...          15.789474   \n",
            "1      8     3      1                  1       1  ...          73.684211   \n",
            "2      8     3      1                  1       1  ...          84.210526   \n",
            "3      4     3      1                  1       1  ...          89.473684   \n",
            "4      7     3      1                  1       1  ...          84.210526   \n",
            "\n",
            "   proc_3_percentile  student_weight  class_weight  school_weight  \\\n",
            "0                 20        2.807867      2.807692       1.000062   \n",
            "1                 80        2.807867      2.807692       1.000062   \n",
            "2                 80        2.807867      2.807692       1.000062   \n",
            "3                100        2.807867      2.807692       1.000062   \n",
            "4                 60        2.807867      2.807692       1.000062   \n",
            "\n",
            "   WLE_MATH_200  Region_Code  GeoArea_5  ESCS_class  ESCS_student  \n",
            "0    134.636431            1          1   -0.114324  -2.202072682  \n",
            "1    216.447934            1          1   -0.114324  -0.291637212  \n",
            "2    225.964770            1          1   -0.114324   0.652582235  \n",
            "3    250.382532            1          1   -0.114324   1.874240696  \n",
            "4    221.065288            1          1   -0.114324   -0.44548553  \n",
            "\n",
            "[5 rows x 84 columns]\n"
          ]
        }
      ]
    },
    {
      "cell_type": "code",
      "source": [
        "# Show variable types\n",
        "print(\" Variable Types:\\n\")\n",
        "print(data.dtypes)\n",
        "\n",
        "# Check completeness (missing values)\n",
        "print(\"\\n📌 Missing Values per Column:\\n\")\n",
        "print(data.isnull().sum())\n",
        "\n",
        "# Quick overview of the dataset\n",
        "print(\"\\n📌 Dataset Info:\\n\")\n",
        "print(data.info())"
      ],
      "metadata": {
        "colab": {
          "base_uri": "https://localhost:8080/"
        },
        "id": "ZpqvGrrCrfMM",
        "outputId": "ebf1c18f-4f98-415a-feb7-e701bedacb71"
      },
      "execution_count": 9,
      "outputs": [
        {
          "output_type": "stream",
          "name": "stdout",
          "text": [
            " Variable Types:\n",
            "\n",
            "SCHOOL_ANONYMIZED       int64\n",
            "CLASS_ANONYMIZED        int64\n",
            "STUDENT_ANONYMIZED      int64\n",
            "grade                   int64\n",
            "gender                  int64\n",
            "                       ...   \n",
            "WLE_MATH_200          float64\n",
            "Region_Code             int64\n",
            "GeoArea_5               int64\n",
            "ESCS_class            float64\n",
            "ESCS_student           object\n",
            "Length: 84, dtype: object\n",
            "\n",
            "📌 Missing Values per Column:\n",
            "\n",
            "SCHOOL_ANONYMIZED     0\n",
            "CLASS_ANONYMIZED      0\n",
            "STUDENT_ANONYMIZED    0\n",
            "grade                 0\n",
            "gender                0\n",
            "                     ..\n",
            "WLE_MATH_200          0\n",
            "Region_Code           0\n",
            "GeoArea_5             0\n",
            "ESCS_class            0\n",
            "ESCS_student          0\n",
            "Length: 84, dtype: int64\n",
            "\n",
            "📌 Dataset Info:\n",
            "\n",
            "<class 'pandas.core.frame.DataFrame'>\n",
            "RangeIndex: 16244 entries, 0 to 16243\n",
            "Data columns (total 84 columns):\n",
            " #   Column                   Non-Null Count  Dtype  \n",
            "---  ------                   --------------  -----  \n",
            " 0   SCHOOL_ANONYMIZED        16244 non-null  int64  \n",
            " 1   CLASS_ANONYMIZED         16244 non-null  int64  \n",
            " 2   STUDENT_ANONYMIZED       16244 non-null  int64  \n",
            " 3   grade                    16244 non-null  int64  \n",
            " 4   gender                   16244 non-null  int64  \n",
            " 5   month                    16244 non-null  int64  \n",
            " 6   year                     16244 non-null  int64  \n",
            " 7   place                    16244 non-null  int64  \n",
            " 8   enrollment_status        16244 non-null  int64  \n",
            " 9   origin                   16244 non-null  int64  \n",
            " 10  age                      16244 non-null  int64  \n",
            " 11  timetable_code           16244 non-null  int64  \n",
            " 12  nursery_attendance       16244 non-null  int64  \n",
            " 13  kindergarten_attendance  16244 non-null  int64  \n",
            " 14  father_birthplace        16244 non-null  int64  \n",
            " 15  father_education         16244 non-null  int64  \n",
            " 16  father_occupation        16244 non-null  int64  \n",
            " 17  mother_birthplace        16244 non-null  int64  \n",
            " 18  mother_education         16244 non-null  int64  \n",
            " 19  mother_occupation        16244 non-null  int64  \n",
            " 20  D1                       16244 non-null  int64  \n",
            " 21  D2                       16244 non-null  int64  \n",
            " 22  D3                       16244 non-null  int64  \n",
            " 23  D4_a                     16244 non-null  int64  \n",
            " 24  D4_b                     16244 non-null  int64  \n",
            " 25  D4_c                     16244 non-null  int64  \n",
            " 26  D5                       16244 non-null  int64  \n",
            " 27  D6                       16244 non-null  int64  \n",
            " 28  D7_a                     16244 non-null  int64  \n",
            " 29  D7_b                     16244 non-null  int64  \n",
            " 30  D8                       16244 non-null  int64  \n",
            " 31  D9                       16244 non-null  int64  \n",
            " 32  D10                      16244 non-null  int64  \n",
            " 33  D11                      16244 non-null  int64  \n",
            " 34  D12                      16244 non-null  int64  \n",
            " 35  D13                      16244 non-null  int64  \n",
            " 36  D14_a                    16244 non-null  int64  \n",
            " 37  D14_b                    16244 non-null  int64  \n",
            " 38  D15                      16244 non-null  int64  \n",
            " 39  D16                      16244 non-null  int64  \n",
            " 40  D17                      16244 non-null  int64  \n",
            " 41  D18                      16244 non-null  int64  \n",
            " 42  D19                      16244 non-null  int64  \n",
            " 43  D20                      16244 non-null  int64  \n",
            " 44  D21_a                    16244 non-null  int64  \n",
            " 45  D21_b                    16244 non-null  int64  \n",
            " 46  D22                      16244 non-null  int64  \n",
            " 47  D23                      16244 non-null  int64  \n",
            " 48  D24                      16244 non-null  int64  \n",
            " 49  D25                      16244 non-null  int64  \n",
            " 50  D26                      16244 non-null  int64  \n",
            " 51  D27                      16244 non-null  int64  \n",
            " 52  D28                      16244 non-null  int64  \n",
            " 53  D29                      16244 non-null  int64  \n",
            " 54  D30                      16244 non-null  int64  \n",
            " 55  D31                      16244 non-null  int64  \n",
            " 56  D32                      16244 non-null  int64  \n",
            " 57  D33                      16244 non-null  int64  \n",
            " 58  D34_a                    16244 non-null  int64  \n",
            " 59  D34_b                    16244 non-null  int64  \n",
            " 60  math_score_raw           16244 non-null  int64  \n",
            " 61  math_score_percentile    16244 non-null  float64\n",
            " 62  part_1_raw               16244 non-null  int64  \n",
            " 63  part_1_percentile        16244 non-null  float64\n",
            " 64  part_2_raw               16244 non-null  int64  \n",
            " 65  part_2_percentile        16244 non-null  int64  \n",
            " 66  part_3_raw               16244 non-null  int64  \n",
            " 67  part_3_percentile        16244 non-null  float64\n",
            " 68  part_4_raw               16244 non-null  int64  \n",
            " 69  part_4_percentile        16244 non-null  float64\n",
            " 70  proc_1_raw               16244 non-null  int64  \n",
            " 71  proc_2_raw               16244 non-null  int64  \n",
            " 72  proc_3_raw               16244 non-null  int64  \n",
            " 73  proc_1_percentile        16244 non-null  float64\n",
            " 74  proc_2_percentile        16244 non-null  float64\n",
            " 75  proc_3_percentile        16244 non-null  int64  \n",
            " 76  student_weight           16244 non-null  float64\n",
            " 77  class_weight             16244 non-null  float64\n",
            " 78  school_weight            16244 non-null  float64\n",
            " 79  WLE_MATH_200             16244 non-null  float64\n",
            " 80  Region_Code              16244 non-null  int64  \n",
            " 81  GeoArea_5                16244 non-null  int64  \n",
            " 82  ESCS_class               16244 non-null  float64\n",
            " 83  ESCS_student             16244 non-null  object \n",
            "dtypes: float64(11), int64(72), object(1)\n",
            "memory usage: 10.4+ MB\n",
            "None\n"
          ]
        }
      ]
    },
    {
      "cell_type": "code",
      "source": [
        "selected_columns = [\n",
        "    \"gender\", \"month\", \"year\", \"origin\",\n",
        "    \"nursery_attendance\", \"kindergarten_attendance\",\n",
        "    \"father_education\", \"mother_education\",\n",
        "    \"father_occupation\", \"mother_occupation\",\n",
        "    \"Region_Code\", \"GeoArea_5\", \"ESCS_student\",\n",
        "    \"ESCS_class\", \"WLE_MATH_200\",\n",
        "    \"math_score_raw\", \"math_score_percentile\"\n",
        "]\n",
        "df = data[selected_columns].copy()\n",
        "# Show first rows\n",
        "print(df.head())"
      ],
      "metadata": {
        "colab": {
          "base_uri": "https://localhost:8080/"
        },
        "id": "c3pPm7Ays6Yn",
        "outputId": "c4d82d56-4030-46f2-ab72-1aff85ccade7"
      },
      "execution_count": 12,
      "outputs": [
        {
          "output_type": "stream",
          "name": "stdout",
          "text": [
            "   gender  month  year  origin  nursery_attendance  kindergarten_attendance  \\\n",
            "0       1     10     2       3                   2                        1   \n",
            "1       2      8     3       1                   2                        1   \n",
            "2       2      8     3       1                   2                        1   \n",
            "3       2      4     3       1                   2                        1   \n",
            "4       2      7     3       1                   2                        1   \n",
            "\n",
            "   father_education  mother_education  father_occupation  mother_occupation  \\\n",
            "0                 1                 1                  8                  8   \n",
            "1                 4                 8                  7                  7   \n",
            "2                 8                 4                  7                  7   \n",
            "3                 3                 8                  4                  5   \n",
            "4                 3                99                  8                  7   \n",
            "\n",
            "   Region_Code  GeoArea_5  ESCS_student  ESCS_class  WLE_MATH_200  \\\n",
            "0            1          1  -2.202072682   -0.114324    134.636431   \n",
            "1            1          1  -0.291637212   -0.114324    216.447934   \n",
            "2            1          1   0.652582235   -0.114324    225.964770   \n",
            "3            1          1   1.874240696   -0.114324    250.382532   \n",
            "4            1          1   -0.44548553   -0.114324    221.065288   \n",
            "\n",
            "   math_score_raw  math_score_percentile  \n",
            "0               9                   22.5  \n",
            "1              29                   72.5  \n",
            "2              31                   77.5  \n",
            "3              35                   87.5  \n",
            "4              30                   75.0  \n"
          ]
        }
      ]
    }
  ]
}